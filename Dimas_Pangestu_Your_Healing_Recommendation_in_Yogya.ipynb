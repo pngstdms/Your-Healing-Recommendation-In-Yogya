{
  "nbformat": 4,
  "nbformat_minor": 0,
  "metadata": {
    "colab": {
      "name": "Dimas Pangestu - Your Healing Recommendation in Yogya.ipynb",
      "provenance": [],
      "collapsed_sections": []
    },
    "kernelspec": {
      "name": "python3",
      "display_name": "Python 3"
    },
    "language_info": {
      "name": "python"
    }
  },
  "cells": [
    {
      "cell_type": "markdown",
      "metadata": {
        "id": "RT_9ANVBvz0S"
      },
      "source": [
        "#Your Healing Place"
      ]
    },
    {
      "cell_type": "markdown",
      "metadata": {
        "id": "TQFv-QeYv5BJ"
      },
      "source": [
        "#1. Opening\n",
        "Bestieeeeee, lagi pusing banget ga sih? Baru juga WFO, eh pas akhir tahun. Mana lagi banyak kerjaan dan ga boleh cuti lagi! PPKM Level 3 juga diberlakukan kembali! TBL TBL TBL TBL! AAAAMMMBYAAARRRR SUDAH RENCANA UNTUK HEALING! PENGEN BANGET JALAN-JALAN BESTIEEEEEE!!!!!\n",
        "Sabar Bestieeeee! SAVE dulu jalan-jalannya bestieeee! Kamu bisa jalan-jalan ke Yogya Istimewa! Ada banyak alasan mengapa Yogya jadi pilihan liburan kamu! Mulai dari kulinernya yang nikmat, biayanya yang murah, hingga objek wisatanya yang selalu baru, unik, dan menyajikan pemandangan yang memukau. Nah, untuk kamu yang berencana untuk menghabiskan liburan di Kota Yogya dan mencari lokasi wisata dengan pemandangan yang paling indah! Cekidot dong!"
      ]
    },
    {
      "cell_type": "markdown",
      "metadata": {
        "id": "-05GDdB3v7bE"
      },
      "source": [
        "##1.1. Content\n",
        "Dataset ini merupakan dataset yang berisi beberapa tempat wisata di 5 kota besar di Indonesia yaitu Jakarta, Yogyakarta, Semarang, Bandung, Surabaya. Dataset ini digunakan di Capstone Project Bangkit Academy 2021 yang disebut GetLoc. GetLoc sebagai aplikasi yang mampu merekomendasikan beberapa destinasi wisata menurut pengguna, apa yang disukai pengguna, dan beberapa parameter seperti kota, harga, kategori, dan juga waktu. Selain itu, GetLoc juga mampu memberikan rute tercepat dan termurah dalam mengunjungi tempat-tempat tersebut, sehingga pengalaman perjalanan Anda akan semakin menarik. Anda dapat melihat repositori di sini. Dataset ini juga terdiri dari 4 file, yaitu:\n",
        "1. tourism_ dengan _id.csv yang berisi informasi tempat wisata di 5 kota besar di Indonesia berjumlah ~400\n",
        "2. user.csv yang berisi data pengguna dummy untuk membuat fitur rekomendasi berdasarkan pengguna\n",
        "3. tourism_rating.csv berisi 3 kolom yaitu user, place, dan rating yang diberikan, berfungsi untuk membuat sistem rekomendasi berdasarkan rating\n",
        "4. package_tourism.csv berisi rekomendasi tempat terdekat berdasarkan waktu, biaya, dan rating."
      ]
    },
    {
      "cell_type": "markdown",
      "metadata": {
        "id": "X4Amy6PfwcVm"
      },
      "source": [
        "##1.2. Source\n",
        "https://www.kaggle.com/aprabowo/indonesia-tourism-destination"
      ]
    },
    {
      "cell_type": "markdown",
      "metadata": {
        "id": "fXL3Y2HCw9Pd"
      },
      "source": [
        "#2. Import Data"
      ]
    },
    {
      "cell_type": "code",
      "metadata": {
        "colab": {
          "base_uri": "https://localhost:8080/"
        },
        "id": "c_fLZlvFvtvu",
        "outputId": "af3b7162-221b-4875-f69b-1fbff3d478a8"
      },
      "source": [
        "from google.colab import drive\n",
        "drive.mount('/content/drive')"
      ],
      "execution_count": null,
      "outputs": [
        {
          "output_type": "stream",
          "name": "stdout",
          "text": [
            "Drive already mounted at /content/drive; to attempt to forcibly remount, call drive.mount(\"/content/drive\", force_remount=True).\n"
          ]
        }
      ]
    },
    {
      "cell_type": "markdown",
      "metadata": {
        "id": "WToTNVHsBzWR"
      },
      "source": [
        "Pertama yang kita lakukan adalah import pandas, numpy, seaborn, dan matplotlib sebagai dasar untuk mengetahui seberapa banyak tempat liburan di Yogyakarta. Kemudian kita dapat melakukan permodelan menggunakan tensorflow juga Machine Learning (ML) terkait rekomendasi liburan di Yogyakarta."
      ]
    },
    {
      "cell_type": "code",
      "metadata": {
        "id": "jsF--F16xEOY"
      },
      "source": [
        "# Untuk pengolahan data\n",
        "import pandas as pd\n",
        "import numpy as np\n",
        "from zipfile import ZipFile\n",
        "from pathlib import Path\n",
        "\n",
        "# Untuk visualisasi data\n",
        "import seaborn as sns\n",
        "import matplotlib.pyplot as plt\n",
        "\n",
        "%matplotlib inline\n",
        "sns.set_palette('Set1')\n",
        "sns.set()\n",
        "\n",
        "# Untuk pemodelan\n",
        "import tensorflow as tf\n",
        "from tensorflow import keras\n",
        "from tensorflow.keras import layers\n",
        "\n",
        "# Untuk menghilangkan warnings saat plotting seaborn\n",
        "import warnings\n",
        "warnings.filterwarnings('ignore')"
      ],
      "execution_count": null,
      "outputs": []
    },
    {
      "cell_type": "markdown",
      "metadata": {
        "id": "bhiPYxpExX-L"
      },
      "source": [
        "#3. Dataset Preparation"
      ]
    },
    {
      "cell_type": "markdown",
      "metadata": {
        "id": "zy26_KO9Cr8q"
      },
      "source": [
        "Langkah selanjutnya, kita menyiapkan data. sesuai dengan ketersediaan data yang ada, kita menggunakan data rating wisata, data wisata dengan id, dan data pengguna."
      ]
    },
    {
      "cell_type": "code",
      "metadata": {
        "id": "BGN_1bQ9xbfF"
      },
      "source": [
        "df_rating = pd.read_csv('/content/drive/MyDrive/Final Project/tourism_rating.csv')\n",
        "df_id = pd.read_csv('/content/drive/MyDrive/Final Project/tourism_with_id.csv')\n",
        "df_user = pd.read_csv('/content/drive/MyDrive/Final Project/user.csv')"
      ],
      "execution_count": null,
      "outputs": []
    },
    {
      "cell_type": "markdown",
      "metadata": {
        "id": "vkKtEV2Xy473"
      },
      "source": [
        "#4. Feature Selection"
      ]
    },
    {
      "cell_type": "markdown",
      "metadata": {
        "id": "_yc2VgyK3EOK"
      },
      "source": [
        "##4.1. Tourism with ID"
      ]
    },
    {
      "cell_type": "markdown",
      "metadata": {
        "id": "BQnS8JgiDAhF"
      },
      "source": [
        "Selanjutnya, kita dapat melihat data secara detail, memilih data mana saja yang akan diambil oleh kita, dan membuang data yang kosong atau null."
      ]
    },
    {
      "cell_type": "code",
      "metadata": {
        "colab": {
          "base_uri": "https://localhost:8080/",
          "height": 310
        },
        "id": "d40cyfZqzLP7",
        "outputId": "3c52a566-1219-4ac0-8400-eaa54d565860"
      },
      "source": [
        "df_id.head(5)"
      ],
      "execution_count": null,
      "outputs": [
        {
          "output_type": "execute_result",
          "data": {
            "text/html": [
              "<div>\n",
              "<style scoped>\n",
              "    .dataframe tbody tr th:only-of-type {\n",
              "        vertical-align: middle;\n",
              "    }\n",
              "\n",
              "    .dataframe tbody tr th {\n",
              "        vertical-align: top;\n",
              "    }\n",
              "\n",
              "    .dataframe thead th {\n",
              "        text-align: right;\n",
              "    }\n",
              "</style>\n",
              "<table border=\"1\" class=\"dataframe\">\n",
              "  <thead>\n",
              "    <tr style=\"text-align: right;\">\n",
              "      <th></th>\n",
              "      <th>Place_Id</th>\n",
              "      <th>Place_Name</th>\n",
              "      <th>Description</th>\n",
              "      <th>Category</th>\n",
              "      <th>City</th>\n",
              "      <th>Price</th>\n",
              "      <th>Rating</th>\n",
              "      <th>Time_Minutes</th>\n",
              "      <th>Coordinate</th>\n",
              "      <th>Lat</th>\n",
              "      <th>Long</th>\n",
              "      <th>Unnamed: 11</th>\n",
              "      <th>Unnamed: 12</th>\n",
              "    </tr>\n",
              "  </thead>\n",
              "  <tbody>\n",
              "    <tr>\n",
              "      <th>0</th>\n",
              "      <td>1</td>\n",
              "      <td>Monumen Nasional</td>\n",
              "      <td>Monumen Nasional atau yang populer disingkat d...</td>\n",
              "      <td>Budaya</td>\n",
              "      <td>Jakarta</td>\n",
              "      <td>20000</td>\n",
              "      <td>4.6</td>\n",
              "      <td>15.0</td>\n",
              "      <td>{'lat': -6.1753924, 'lng': 106.8271528}</td>\n",
              "      <td>-6.175392</td>\n",
              "      <td>106.827153</td>\n",
              "      <td>NaN</td>\n",
              "      <td>1</td>\n",
              "    </tr>\n",
              "    <tr>\n",
              "      <th>1</th>\n",
              "      <td>2</td>\n",
              "      <td>Kota Tua</td>\n",
              "      <td>Kota tua di Jakarta, yang juga bernama Kota Tu...</td>\n",
              "      <td>Budaya</td>\n",
              "      <td>Jakarta</td>\n",
              "      <td>0</td>\n",
              "      <td>4.6</td>\n",
              "      <td>90.0</td>\n",
              "      <td>{'lat': -6.137644799999999, 'lng': 106.8171245}</td>\n",
              "      <td>-6.137645</td>\n",
              "      <td>106.817125</td>\n",
              "      <td>NaN</td>\n",
              "      <td>2</td>\n",
              "    </tr>\n",
              "    <tr>\n",
              "      <th>2</th>\n",
              "      <td>3</td>\n",
              "      <td>Dunia Fantasi</td>\n",
              "      <td>Dunia Fantasi atau disebut juga Dufan adalah t...</td>\n",
              "      <td>Taman Hiburan</td>\n",
              "      <td>Jakarta</td>\n",
              "      <td>270000</td>\n",
              "      <td>4.6</td>\n",
              "      <td>360.0</td>\n",
              "      <td>{'lat': -6.125312399999999, 'lng': 106.8335377}</td>\n",
              "      <td>-6.125312</td>\n",
              "      <td>106.833538</td>\n",
              "      <td>NaN</td>\n",
              "      <td>3</td>\n",
              "    </tr>\n",
              "    <tr>\n",
              "      <th>3</th>\n",
              "      <td>4</td>\n",
              "      <td>Taman Mini Indonesia Indah (TMII)</td>\n",
              "      <td>Taman Mini Indonesia Indah merupakan suatu kaw...</td>\n",
              "      <td>Taman Hiburan</td>\n",
              "      <td>Jakarta</td>\n",
              "      <td>10000</td>\n",
              "      <td>4.5</td>\n",
              "      <td>NaN</td>\n",
              "      <td>{'lat': -6.302445899999999, 'lng': 106.8951559}</td>\n",
              "      <td>-6.302446</td>\n",
              "      <td>106.895156</td>\n",
              "      <td>NaN</td>\n",
              "      <td>4</td>\n",
              "    </tr>\n",
              "    <tr>\n",
              "      <th>4</th>\n",
              "      <td>5</td>\n",
              "      <td>Atlantis Water Adventure</td>\n",
              "      <td>Atlantis Water Adventure atau dikenal dengan A...</td>\n",
              "      <td>Taman Hiburan</td>\n",
              "      <td>Jakarta</td>\n",
              "      <td>94000</td>\n",
              "      <td>4.5</td>\n",
              "      <td>60.0</td>\n",
              "      <td>{'lat': -6.12419, 'lng': 106.839134}</td>\n",
              "      <td>-6.124190</td>\n",
              "      <td>106.839134</td>\n",
              "      <td>NaN</td>\n",
              "      <td>5</td>\n",
              "    </tr>\n",
              "  </tbody>\n",
              "</table>\n",
              "</div>"
            ],
            "text/plain": [
              "   Place_Id                         Place_Name  ... Unnamed: 11 Unnamed: 12\n",
              "0         1                   Monumen Nasional  ...         NaN           1\n",
              "1         2                           Kota Tua  ...         NaN           2\n",
              "2         3                      Dunia Fantasi  ...         NaN           3\n",
              "3         4  Taman Mini Indonesia Indah (TMII)  ...         NaN           4\n",
              "4         5           Atlantis Water Adventure  ...         NaN           5\n",
              "\n",
              "[5 rows x 13 columns]"
            ]
          },
          "metadata": {},
          "execution_count": 39
        }
      ]
    },
    {
      "cell_type": "code",
      "metadata": {
        "colab": {
          "base_uri": "https://localhost:8080/",
          "height": 292
        },
        "id": "LYfKHjAiz72q",
        "outputId": "f4553caf-a21f-4d13-e38b-94834fa30fe0"
      },
      "source": [
        "#Remove unused Coloumn\n",
        "df_id = df_id.drop(['Unnamed: 11','Unnamed: 12'],axis=1)\n",
        "df_id.head(5)"
      ],
      "execution_count": null,
      "outputs": [
        {
          "output_type": "execute_result",
          "data": {
            "text/html": [
              "<div>\n",
              "<style scoped>\n",
              "    .dataframe tbody tr th:only-of-type {\n",
              "        vertical-align: middle;\n",
              "    }\n",
              "\n",
              "    .dataframe tbody tr th {\n",
              "        vertical-align: top;\n",
              "    }\n",
              "\n",
              "    .dataframe thead th {\n",
              "        text-align: right;\n",
              "    }\n",
              "</style>\n",
              "<table border=\"1\" class=\"dataframe\">\n",
              "  <thead>\n",
              "    <tr style=\"text-align: right;\">\n",
              "      <th></th>\n",
              "      <th>Place_Id</th>\n",
              "      <th>Place_Name</th>\n",
              "      <th>Description</th>\n",
              "      <th>Category</th>\n",
              "      <th>City</th>\n",
              "      <th>Price</th>\n",
              "      <th>Rating</th>\n",
              "      <th>Time_Minutes</th>\n",
              "      <th>Coordinate</th>\n",
              "      <th>Lat</th>\n",
              "      <th>Long</th>\n",
              "    </tr>\n",
              "  </thead>\n",
              "  <tbody>\n",
              "    <tr>\n",
              "      <th>0</th>\n",
              "      <td>1</td>\n",
              "      <td>Monumen Nasional</td>\n",
              "      <td>Monumen Nasional atau yang populer disingkat d...</td>\n",
              "      <td>Budaya</td>\n",
              "      <td>Jakarta</td>\n",
              "      <td>20000</td>\n",
              "      <td>4.6</td>\n",
              "      <td>15.0</td>\n",
              "      <td>{'lat': -6.1753924, 'lng': 106.8271528}</td>\n",
              "      <td>-6.175392</td>\n",
              "      <td>106.827153</td>\n",
              "    </tr>\n",
              "    <tr>\n",
              "      <th>1</th>\n",
              "      <td>2</td>\n",
              "      <td>Kota Tua</td>\n",
              "      <td>Kota tua di Jakarta, yang juga bernama Kota Tu...</td>\n",
              "      <td>Budaya</td>\n",
              "      <td>Jakarta</td>\n",
              "      <td>0</td>\n",
              "      <td>4.6</td>\n",
              "      <td>90.0</td>\n",
              "      <td>{'lat': -6.137644799999999, 'lng': 106.8171245}</td>\n",
              "      <td>-6.137645</td>\n",
              "      <td>106.817125</td>\n",
              "    </tr>\n",
              "    <tr>\n",
              "      <th>2</th>\n",
              "      <td>3</td>\n",
              "      <td>Dunia Fantasi</td>\n",
              "      <td>Dunia Fantasi atau disebut juga Dufan adalah t...</td>\n",
              "      <td>Taman Hiburan</td>\n",
              "      <td>Jakarta</td>\n",
              "      <td>270000</td>\n",
              "      <td>4.6</td>\n",
              "      <td>360.0</td>\n",
              "      <td>{'lat': -6.125312399999999, 'lng': 106.8335377}</td>\n",
              "      <td>-6.125312</td>\n",
              "      <td>106.833538</td>\n",
              "    </tr>\n",
              "    <tr>\n",
              "      <th>3</th>\n",
              "      <td>4</td>\n",
              "      <td>Taman Mini Indonesia Indah (TMII)</td>\n",
              "      <td>Taman Mini Indonesia Indah merupakan suatu kaw...</td>\n",
              "      <td>Taman Hiburan</td>\n",
              "      <td>Jakarta</td>\n",
              "      <td>10000</td>\n",
              "      <td>4.5</td>\n",
              "      <td>NaN</td>\n",
              "      <td>{'lat': -6.302445899999999, 'lng': 106.8951559}</td>\n",
              "      <td>-6.302446</td>\n",
              "      <td>106.895156</td>\n",
              "    </tr>\n",
              "    <tr>\n",
              "      <th>4</th>\n",
              "      <td>5</td>\n",
              "      <td>Atlantis Water Adventure</td>\n",
              "      <td>Atlantis Water Adventure atau dikenal dengan A...</td>\n",
              "      <td>Taman Hiburan</td>\n",
              "      <td>Jakarta</td>\n",
              "      <td>94000</td>\n",
              "      <td>4.5</td>\n",
              "      <td>60.0</td>\n",
              "      <td>{'lat': -6.12419, 'lng': 106.839134}</td>\n",
              "      <td>-6.124190</td>\n",
              "      <td>106.839134</td>\n",
              "    </tr>\n",
              "  </tbody>\n",
              "</table>\n",
              "</div>"
            ],
            "text/plain": [
              "   Place_Id                         Place_Name  ...       Lat        Long\n",
              "0         1                   Monumen Nasional  ... -6.175392  106.827153\n",
              "1         2                           Kota Tua  ... -6.137645  106.817125\n",
              "2         3                      Dunia Fantasi  ... -6.125312  106.833538\n",
              "3         4  Taman Mini Indonesia Indah (TMII)  ... -6.302446  106.895156\n",
              "4         5           Atlantis Water Adventure  ... -6.124190  106.839134\n",
              "\n",
              "[5 rows x 11 columns]"
            ]
          },
          "metadata": {},
          "execution_count": 40
        }
      ]
    },
    {
      "cell_type": "markdown",
      "metadata": {
        "id": "wfogUGM1LW7a"
      },
      "source": [
        "Karena data tourism_id terdapat 5 Kota di Indonesia. Kita akan mengambil Kota Yogyakarta menjadi pilihan."
      ]
    },
    {
      "cell_type": "code",
      "metadata": {
        "colab": {
          "base_uri": "https://localhost:8080/",
          "height": 292
        },
        "id": "9JuzRrGFzwKH",
        "outputId": "be5a2feb-64ff-4c78-b8a3-0cc6a2602001"
      },
      "source": [
        "#Change data only Yogyakarta\n",
        "\n",
        "df_id = df_id[df_id['City']=='Yogyakarta']\n",
        "df_id.head(5)"
      ],
      "execution_count": null,
      "outputs": [
        {
          "output_type": "execute_result",
          "data": {
            "text/html": [
              "<div>\n",
              "<style scoped>\n",
              "    .dataframe tbody tr th:only-of-type {\n",
              "        vertical-align: middle;\n",
              "    }\n",
              "\n",
              "    .dataframe tbody tr th {\n",
              "        vertical-align: top;\n",
              "    }\n",
              "\n",
              "    .dataframe thead th {\n",
              "        text-align: right;\n",
              "    }\n",
              "</style>\n",
              "<table border=\"1\" class=\"dataframe\">\n",
              "  <thead>\n",
              "    <tr style=\"text-align: right;\">\n",
              "      <th></th>\n",
              "      <th>Place_Id</th>\n",
              "      <th>Place_Name</th>\n",
              "      <th>Description</th>\n",
              "      <th>Category</th>\n",
              "      <th>City</th>\n",
              "      <th>Price</th>\n",
              "      <th>Rating</th>\n",
              "      <th>Time_Minutes</th>\n",
              "      <th>Coordinate</th>\n",
              "      <th>Lat</th>\n",
              "      <th>Long</th>\n",
              "    </tr>\n",
              "  </thead>\n",
              "  <tbody>\n",
              "    <tr>\n",
              "      <th>84</th>\n",
              "      <td>85</td>\n",
              "      <td>Taman Pintar Yogyakarta</td>\n",
              "      <td>Taman Pintar Yogyakarta (bahasa Jawa: Hanacara...</td>\n",
              "      <td>Taman Hiburan</td>\n",
              "      <td>Yogyakarta</td>\n",
              "      <td>6000</td>\n",
              "      <td>4.5</td>\n",
              "      <td>120.0</td>\n",
              "      <td>{'lat': -7.800671500000001, 'lng': 110.3676551}</td>\n",
              "      <td>-7.800671</td>\n",
              "      <td>110.367655</td>\n",
              "    </tr>\n",
              "    <tr>\n",
              "      <th>85</th>\n",
              "      <td>86</td>\n",
              "      <td>Keraton Yogyakarta</td>\n",
              "      <td>Keraton Ngayogyakarta Hadiningrat atau Keraton...</td>\n",
              "      <td>Budaya</td>\n",
              "      <td>Yogyakarta</td>\n",
              "      <td>15000</td>\n",
              "      <td>4.6</td>\n",
              "      <td>NaN</td>\n",
              "      <td>{'lat': -7.8052845, 'lng': 110.3642031}</td>\n",
              "      <td>-7.805284</td>\n",
              "      <td>110.364203</td>\n",
              "    </tr>\n",
              "    <tr>\n",
              "      <th>86</th>\n",
              "      <td>87</td>\n",
              "      <td>Sindu Kusuma Edupark (SKE)</td>\n",
              "      <td>Sindu Kusuma Edupark (SKE) merupakan sebuah de...</td>\n",
              "      <td>Taman Hiburan</td>\n",
              "      <td>Yogyakarta</td>\n",
              "      <td>20000</td>\n",
              "      <td>4.2</td>\n",
              "      <td>120.0</td>\n",
              "      <td>{'lat': -7.767297300000001, 'lng': 110.3542486}</td>\n",
              "      <td>-7.767297</td>\n",
              "      <td>110.354249</td>\n",
              "    </tr>\n",
              "    <tr>\n",
              "      <th>87</th>\n",
              "      <td>88</td>\n",
              "      <td>Museum Benteng Vredeburg Yogyakarta</td>\n",
              "      <td>Museum Benteng Vredeburg (bahasa Jawa: ꦩꦸꦱꦶꦪꦸꦩ...</td>\n",
              "      <td>Budaya</td>\n",
              "      <td>Yogyakarta</td>\n",
              "      <td>3000</td>\n",
              "      <td>4.6</td>\n",
              "      <td>120.0</td>\n",
              "      <td>{'lat': -7.800201599999999, 'lng': 110.3663044}</td>\n",
              "      <td>-7.800202</td>\n",
              "      <td>110.366304</td>\n",
              "    </tr>\n",
              "    <tr>\n",
              "      <th>88</th>\n",
              "      <td>89</td>\n",
              "      <td>De Mata Museum Jogja</td>\n",
              "      <td>Museum De Mata merupakan salah satu museum yan...</td>\n",
              "      <td>Budaya</td>\n",
              "      <td>Yogyakarta</td>\n",
              "      <td>50000</td>\n",
              "      <td>4.4</td>\n",
              "      <td>NaN</td>\n",
              "      <td>{'lat': -7.816315599999999, 'lng': 110.3871442}</td>\n",
              "      <td>-7.816316</td>\n",
              "      <td>110.387144</td>\n",
              "    </tr>\n",
              "  </tbody>\n",
              "</table>\n",
              "</div>"
            ],
            "text/plain": [
              "    Place_Id                           Place_Name  ...       Lat        Long\n",
              "84        85              Taman Pintar Yogyakarta  ... -7.800671  110.367655\n",
              "85        86                   Keraton Yogyakarta  ... -7.805284  110.364203\n",
              "86        87           Sindu Kusuma Edupark (SKE)  ... -7.767297  110.354249\n",
              "87        88  Museum Benteng Vredeburg Yogyakarta  ... -7.800202  110.366304\n",
              "88        89                 De Mata Museum Jogja  ... -7.816316  110.387144\n",
              "\n",
              "[5 rows x 11 columns]"
            ]
          },
          "metadata": {},
          "execution_count": 41
        }
      ]
    },
    {
      "cell_type": "code",
      "metadata": {
        "colab": {
          "base_uri": "https://localhost:8080/"
        },
        "id": "YmZloZwh2rGI",
        "outputId": "47808416-afae-443e-ed6b-cf01de43c604"
      },
      "source": [
        "df_id.info()"
      ],
      "execution_count": null,
      "outputs": [
        {
          "output_type": "stream",
          "name": "stdout",
          "text": [
            "<class 'pandas.core.frame.DataFrame'>\n",
            "Int64Index: 126 entries, 84 to 209\n",
            "Data columns (total 11 columns):\n",
            " #   Column        Non-Null Count  Dtype  \n",
            "---  ------        --------------  -----  \n",
            " 0   Place_Id      126 non-null    int64  \n",
            " 1   Place_Name    126 non-null    object \n",
            " 2   Description   126 non-null    object \n",
            " 3   Category      126 non-null    object \n",
            " 4   City          126 non-null    object \n",
            " 5   Price         126 non-null    int64  \n",
            " 6   Rating        126 non-null    float64\n",
            " 7   Time_Minutes  60 non-null     float64\n",
            " 8   Coordinate    126 non-null    object \n",
            " 9   Lat           126 non-null    float64\n",
            " 10  Long          126 non-null    float64\n",
            "dtypes: float64(4), int64(2), object(5)\n",
            "memory usage: 11.8+ KB\n"
          ]
        }
      ]
    },
    {
      "cell_type": "code",
      "metadata": {
        "id": "7oLbnktC2w7S"
      },
      "source": [
        "# Remove unused coloumn\n",
        "df_id = df_id.drop('Time_Minutes', axis=1)"
      ],
      "execution_count": null,
      "outputs": []
    },
    {
      "cell_type": "markdown",
      "metadata": {
        "id": "c6mBLgPl3W2I"
      },
      "source": [
        "##4.2. Tourism Rating"
      ]
    },
    {
      "cell_type": "markdown",
      "metadata": {
        "id": "dqlybiUrMSjE"
      },
      "source": [
        "Kita akan melakukan hal yang sama seperti data tourism_id kepada data tourism rating."
      ]
    },
    {
      "cell_type": "code",
      "metadata": {
        "colab": {
          "base_uri": "https://localhost:8080/",
          "height": 206
        },
        "id": "1PwmZlkNzHtF",
        "outputId": "a4df0a4a-ec64-4fdc-c77e-4c523770dd18"
      },
      "source": [
        "df_rating.head(5)"
      ],
      "execution_count": null,
      "outputs": [
        {
          "output_type": "execute_result",
          "data": {
            "text/html": [
              "<div>\n",
              "<style scoped>\n",
              "    .dataframe tbody tr th:only-of-type {\n",
              "        vertical-align: middle;\n",
              "    }\n",
              "\n",
              "    .dataframe tbody tr th {\n",
              "        vertical-align: top;\n",
              "    }\n",
              "\n",
              "    .dataframe thead th {\n",
              "        text-align: right;\n",
              "    }\n",
              "</style>\n",
              "<table border=\"1\" class=\"dataframe\">\n",
              "  <thead>\n",
              "    <tr style=\"text-align: right;\">\n",
              "      <th></th>\n",
              "      <th>User_Id</th>\n",
              "      <th>Place_Id</th>\n",
              "      <th>Place_Ratings</th>\n",
              "    </tr>\n",
              "  </thead>\n",
              "  <tbody>\n",
              "    <tr>\n",
              "      <th>0</th>\n",
              "      <td>1</td>\n",
              "      <td>179</td>\n",
              "      <td>3</td>\n",
              "    </tr>\n",
              "    <tr>\n",
              "      <th>1</th>\n",
              "      <td>1</td>\n",
              "      <td>344</td>\n",
              "      <td>2</td>\n",
              "    </tr>\n",
              "    <tr>\n",
              "      <th>2</th>\n",
              "      <td>1</td>\n",
              "      <td>5</td>\n",
              "      <td>5</td>\n",
              "    </tr>\n",
              "    <tr>\n",
              "      <th>3</th>\n",
              "      <td>1</td>\n",
              "      <td>373</td>\n",
              "      <td>3</td>\n",
              "    </tr>\n",
              "    <tr>\n",
              "      <th>4</th>\n",
              "      <td>1</td>\n",
              "      <td>101</td>\n",
              "      <td>4</td>\n",
              "    </tr>\n",
              "  </tbody>\n",
              "</table>\n",
              "</div>"
            ],
            "text/plain": [
              "   User_Id  Place_Id  Place_Ratings\n",
              "0        1       179              3\n",
              "1        1       344              2\n",
              "2        1         5              5\n",
              "3        1       373              3\n",
              "4        1       101              4"
            ]
          },
          "metadata": {},
          "execution_count": 44
        }
      ]
    },
    {
      "cell_type": "code",
      "metadata": {
        "colab": {
          "base_uri": "https://localhost:8080/"
        },
        "id": "TH9t1xIG3ipd",
        "outputId": "a8edb2b8-659d-46eb-daac-36ca3378feed"
      },
      "source": [
        "df_rating.info"
      ],
      "execution_count": null,
      "outputs": [
        {
          "output_type": "execute_result",
          "data": {
            "text/plain": [
              "<bound method DataFrame.info of       User_Id  Place_Id  Place_Ratings\n",
              "0           1       179              3\n",
              "1           1       344              2\n",
              "2           1         5              5\n",
              "3           1       373              3\n",
              "4           1       101              4\n",
              "...       ...       ...            ...\n",
              "9995      300       425              2\n",
              "9996      300        64              4\n",
              "9997      300       311              3\n",
              "9998      300       279              4\n",
              "9999      300       163              2\n",
              "\n",
              "[10000 rows x 3 columns]>"
            ]
          },
          "metadata": {},
          "execution_count": 45
        }
      ]
    },
    {
      "cell_type": "code",
      "metadata": {
        "colab": {
          "base_uri": "https://localhost:8080/",
          "height": 206
        },
        "id": "Hq0CHojD3o65",
        "outputId": "b8120846-3570-45f4-b6b1-5584f7dcfb9a"
      },
      "source": [
        "#Changing Data Rating only tourism for Yogyakarta\n",
        "df_rating = pd.merge(df_rating, df_id[['Place_Id']], how='right', on='Place_Id')\n",
        "df_rating.head()"
      ],
      "execution_count": null,
      "outputs": [
        {
          "output_type": "execute_result",
          "data": {
            "text/html": [
              "<div>\n",
              "<style scoped>\n",
              "    .dataframe tbody tr th:only-of-type {\n",
              "        vertical-align: middle;\n",
              "    }\n",
              "\n",
              "    .dataframe tbody tr th {\n",
              "        vertical-align: top;\n",
              "    }\n",
              "\n",
              "    .dataframe thead th {\n",
              "        text-align: right;\n",
              "    }\n",
              "</style>\n",
              "<table border=\"1\" class=\"dataframe\">\n",
              "  <thead>\n",
              "    <tr style=\"text-align: right;\">\n",
              "      <th></th>\n",
              "      <th>User_Id</th>\n",
              "      <th>Place_Id</th>\n",
              "      <th>Place_Ratings</th>\n",
              "    </tr>\n",
              "  </thead>\n",
              "  <tbody>\n",
              "    <tr>\n",
              "      <th>0</th>\n",
              "      <td>2</td>\n",
              "      <td>85</td>\n",
              "      <td>4</td>\n",
              "    </tr>\n",
              "    <tr>\n",
              "      <th>1</th>\n",
              "      <td>23</td>\n",
              "      <td>85</td>\n",
              "      <td>4</td>\n",
              "    </tr>\n",
              "    <tr>\n",
              "      <th>2</th>\n",
              "      <td>25</td>\n",
              "      <td>85</td>\n",
              "      <td>2</td>\n",
              "    </tr>\n",
              "    <tr>\n",
              "      <th>3</th>\n",
              "      <td>39</td>\n",
              "      <td>85</td>\n",
              "      <td>5</td>\n",
              "    </tr>\n",
              "    <tr>\n",
              "      <th>4</th>\n",
              "      <td>43</td>\n",
              "      <td>85</td>\n",
              "      <td>4</td>\n",
              "    </tr>\n",
              "  </tbody>\n",
              "</table>\n",
              "</div>"
            ],
            "text/plain": [
              "   User_Id  Place_Id  Place_Ratings\n",
              "0        2        85              4\n",
              "1       23        85              4\n",
              "2       25        85              2\n",
              "3       39        85              5\n",
              "4       43        85              4"
            ]
          },
          "metadata": {},
          "execution_count": 46
        }
      ]
    },
    {
      "cell_type": "code",
      "metadata": {
        "colab": {
          "base_uri": "https://localhost:8080/"
        },
        "id": "eCF2nao85HfS",
        "outputId": "090513b4-3c85-4a08-903b-f5ae8ab24b98"
      },
      "source": [
        "#looking Dataset Tourism for Yogyakarta\n",
        "df_rating.shape"
      ],
      "execution_count": null,
      "outputs": [
        {
          "output_type": "execute_result",
          "data": {
            "text/plain": [
              "(2871, 3)"
            ]
          },
          "metadata": {},
          "execution_count": 47
        }
      ]
    },
    {
      "cell_type": "markdown",
      "metadata": {
        "id": "MuW6RSCT3gIA"
      },
      "source": [
        "##4.3. Tourism User"
      ]
    },
    {
      "cell_type": "markdown",
      "metadata": {
        "id": "g1MkFedCMcQF"
      },
      "source": [
        "Begitupula dengan data tourism_user, kita akan melihat data mana yang penting untuk digunakan dan yang akan dibuang."
      ]
    },
    {
      "cell_type": "code",
      "metadata": {
        "colab": {
          "base_uri": "https://localhost:8080/",
          "height": 206
        },
        "id": "BQUljL7VzRt9",
        "outputId": "363f0085-e2ec-48f3-f783-b66cd22ae4b0"
      },
      "source": [
        "df_user.head(5)"
      ],
      "execution_count": null,
      "outputs": [
        {
          "output_type": "execute_result",
          "data": {
            "text/html": [
              "<div>\n",
              "<style scoped>\n",
              "    .dataframe tbody tr th:only-of-type {\n",
              "        vertical-align: middle;\n",
              "    }\n",
              "\n",
              "    .dataframe tbody tr th {\n",
              "        vertical-align: top;\n",
              "    }\n",
              "\n",
              "    .dataframe thead th {\n",
              "        text-align: right;\n",
              "    }\n",
              "</style>\n",
              "<table border=\"1\" class=\"dataframe\">\n",
              "  <thead>\n",
              "    <tr style=\"text-align: right;\">\n",
              "      <th></th>\n",
              "      <th>User_Id</th>\n",
              "      <th>Location</th>\n",
              "      <th>Age</th>\n",
              "    </tr>\n",
              "  </thead>\n",
              "  <tbody>\n",
              "    <tr>\n",
              "      <th>0</th>\n",
              "      <td>1</td>\n",
              "      <td>Semarang, Jawa Tengah</td>\n",
              "      <td>20</td>\n",
              "    </tr>\n",
              "    <tr>\n",
              "      <th>1</th>\n",
              "      <td>2</td>\n",
              "      <td>Bekasi, Jawa Barat</td>\n",
              "      <td>21</td>\n",
              "    </tr>\n",
              "    <tr>\n",
              "      <th>2</th>\n",
              "      <td>3</td>\n",
              "      <td>Cirebon, Jawa Barat</td>\n",
              "      <td>23</td>\n",
              "    </tr>\n",
              "    <tr>\n",
              "      <th>3</th>\n",
              "      <td>4</td>\n",
              "      <td>Bekasi, Jawa Barat</td>\n",
              "      <td>21</td>\n",
              "    </tr>\n",
              "    <tr>\n",
              "      <th>4</th>\n",
              "      <td>5</td>\n",
              "      <td>Lampung, Sumatera Selatan</td>\n",
              "      <td>20</td>\n",
              "    </tr>\n",
              "  </tbody>\n",
              "</table>\n",
              "</div>"
            ],
            "text/plain": [
              "   User_Id                   Location  Age\n",
              "0        1      Semarang, Jawa Tengah   20\n",
              "1        2         Bekasi, Jawa Barat   21\n",
              "2        3        Cirebon, Jawa Barat   23\n",
              "3        4         Bekasi, Jawa Barat   21\n",
              "4        5  Lampung, Sumatera Selatan   20"
            ]
          },
          "metadata": {},
          "execution_count": 48
        }
      ]
    },
    {
      "cell_type": "code",
      "metadata": {
        "colab": {
          "base_uri": "https://localhost:8080/",
          "height": 206
        },
        "id": "jhyUDLaI5TwH",
        "outputId": "9d09993c-5828-431b-a4e6-69b0f7da08e2"
      },
      "source": [
        "#Changing data user only for visitor whos visit Yogyakarta\n",
        "\n",
        "df_user = pd.merge(df_user, df_rating[['User_Id']], how='right', on='User_Id').drop_duplicates().sort_values('User_Id')\n",
        "df_user.head()"
      ],
      "execution_count": null,
      "outputs": [
        {
          "output_type": "execute_result",
          "data": {
            "text/html": [
              "<div>\n",
              "<style scoped>\n",
              "    .dataframe tbody tr th:only-of-type {\n",
              "        vertical-align: middle;\n",
              "    }\n",
              "\n",
              "    .dataframe tbody tr th {\n",
              "        vertical-align: top;\n",
              "    }\n",
              "\n",
              "    .dataframe thead th {\n",
              "        text-align: right;\n",
              "    }\n",
              "</style>\n",
              "<table border=\"1\" class=\"dataframe\">\n",
              "  <thead>\n",
              "    <tr style=\"text-align: right;\">\n",
              "      <th></th>\n",
              "      <th>User_Id</th>\n",
              "      <th>Location</th>\n",
              "      <th>Age</th>\n",
              "    </tr>\n",
              "  </thead>\n",
              "  <tbody>\n",
              "    <tr>\n",
              "      <th>868</th>\n",
              "      <td>1</td>\n",
              "      <td>Semarang, Jawa Tengah</td>\n",
              "      <td>20</td>\n",
              "    </tr>\n",
              "    <tr>\n",
              "      <th>0</th>\n",
              "      <td>2</td>\n",
              "      <td>Bekasi, Jawa Barat</td>\n",
              "      <td>21</td>\n",
              "    </tr>\n",
              "    <tr>\n",
              "      <th>247</th>\n",
              "      <td>3</td>\n",
              "      <td>Cirebon, Jawa Barat</td>\n",
              "      <td>23</td>\n",
              "    </tr>\n",
              "    <tr>\n",
              "      <th>621</th>\n",
              "      <td>4</td>\n",
              "      <td>Bekasi, Jawa Barat</td>\n",
              "      <td>21</td>\n",
              "    </tr>\n",
              "    <tr>\n",
              "      <th>2649</th>\n",
              "      <td>5</td>\n",
              "      <td>Lampung, Sumatera Selatan</td>\n",
              "      <td>20</td>\n",
              "    </tr>\n",
              "  </tbody>\n",
              "</table>\n",
              "</div>"
            ],
            "text/plain": [
              "      User_Id                   Location  Age\n",
              "868         1      Semarang, Jawa Tengah   20\n",
              "0           2         Bekasi, Jawa Barat   21\n",
              "247         3        Cirebon, Jawa Barat   23\n",
              "621         4         Bekasi, Jawa Barat   21\n",
              "2649        5  Lampung, Sumatera Selatan   20"
            ]
          },
          "metadata": {},
          "execution_count": 49
        }
      ]
    },
    {
      "cell_type": "markdown",
      "metadata": {
        "id": "VqVaiSOT6gMY"
      },
      "source": [
        "# 5. Exploratory Data Analysis"
      ]
    },
    {
      "cell_type": "markdown",
      "metadata": {
        "id": "X_TO5jNWMpuv"
      },
      "source": [
        "Selanjutnya kita akan melakukan exploratory data anaysis (EDA) sebagai bagian dari data apa saja yang akan digunakan dan dikembangkan. EDA yang akan digunakan adalah melihat jumat tempat wisata dengan rating terbanyak, lalu kategori tempat wisata, umur, harga wisata, dan asal wisatawan."
      ]
    },
    {
      "cell_type": "markdown",
      "metadata": {
        "id": "Zauo31OzOPtS"
      },
      "source": [
        "Pertama, kita lakukan EDA terkiat jumlah tempat wisata dengan rating terbanyak di Yogyakarta."
      ]
    },
    {
      "cell_type": "code",
      "metadata": {
        "colab": {
          "base_uri": "https://localhost:8080/",
          "height": 369
        },
        "id": "xg8IYJn26fSL",
        "outputId": "696070b5-cbfc-4f35-9778-f690e4b46b24"
      },
      "source": [
        "#Create Data Frame based on location within highest rating\n",
        "top_10 = df_rating['Place_Id'].value_counts().reset_index()[0:10]\n",
        "top_10 = pd.merge(top_10, df_id[['Place_Id','Place_Name']], how='left', left_on='index', right_on='Place_Id')\n",
        "\n",
        "#Create data visualization tourism within highest rating\n",
        "plt.figure(figsize=(8,5))\n",
        "sns.barplot('Place_Id_x', 'Place_Name', data=top_10)\n",
        "plt.title('Jumlah Tempat Wisata dengan Rating Terbanyak', pad=20)\n",
        "plt.ylabel('Location')\n",
        "plt.xlabel('Rating')\n",
        "plt.show()"
      ],
      "execution_count": null,
      "outputs": [
        {
          "output_type": "display_data",
          "data": {
            "image/png": "[encoded data removed]",
            "text/plain": [
              "<Figure size 576x360 with 1 Axes>"
            ]
          },
          "metadata": {}
        }
      ]
    },
    {
      "cell_type": "markdown",
      "metadata": {
        "id": "oCo81SZmOYJd"
      },
      "source": [
        "Hasilnya, Pantai Parangtritis masih menjadi tempat wisata yang paling diminati di Yogyakarta. Kemudian, diikuti oleh Pantai Kesirat, Taman Sungai Mudal dan Geoforest Watu Payung Turunan. Kalau dilihat tiga besar, sepertinya wisata alam mempunyai ketertarikan sendiri yaa."
      ]
    },
    {
      "cell_type": "markdown",
      "metadata": {
        "id": "MiekzbGwOuzV"
      },
      "source": [
        "Selanjutnya kita melakukan EDA terhadap kategori wisata mana yang paling banyak dikunjungi oleh para wisatawan."
      ]
    },
    {
      "cell_type": "code",
      "metadata": {
        "colab": {
          "base_uri": "https://localhost:8080/",
          "height": 315
        },
        "id": "ENWtsj-T7BL_",
        "outputId": "cbdae47a-ad96-4fe8-96cb-f89fa12add8d"
      },
      "source": [
        "#Create Data Visualization within Total Tourism in Yogyakarta\n",
        "sns.countplot(y='Category', data=df_id)\n",
        "plt.title('Perbandingan Jumlah Kategori Wisata di Yogyakarta', pad=20)\n",
        "plt.show()"
      ],
      "execution_count": null,
      "outputs": [
        {
          "output_type": "display_data",
          "data": {
            "image/png": "[encoded data removed]",
            "text/plain": [
              "<Figure size 432x288 with 1 Axes>"
            ]
          },
          "metadata": {}
        }
      ]
    },
    {
      "cell_type": "markdown",
      "metadata": {
        "id": "WayQleTYO4he"
      },
      "source": [
        "Hasilnya, tempat taman hiburan paling diminati bisa jadi referensi kamu juga nih untuk datang kesana sambil menikmati obrolan bersama keluarga, teman atau pasangan kamu. selain itu, Yogyakarta memang tidak jauh dari unsur kebudayaan jawa yang kental. ini nih yang bisa jadi daya pikat menarik bagi wisatawan."
      ]
    },
    {
      "cell_type": "code",
      "metadata": {
        "colab": {
          "base_uri": "https://localhost:8080/",
          "height": 260
        },
        "id": "41VHv7cZ7iC-",
        "outputId": "70d41bdb-62a3-4ed9-e980-88ca06a5ecec"
      },
      "source": [
        "#Create Data Visualization Age Distribution\n",
        "plt.figure(figsize=(5,3))\n",
        "sns.boxplot(df_user['Age']);\n",
        "plt.title('Distribusi Usia User', pad=20)\n",
        "plt.show()"
      ],
      "execution_count": null,
      "outputs": [
        {
          "output_type": "display_data",
          "data": {
            "image/png": "[encoded data removed]",
            "text/plain": [
              "<Figure size 360x216 with 1 Axes>"
            ]
          },
          "metadata": {}
        }
      ]
    },
    {
      "cell_type": "markdown",
      "metadata": {
        "id": "EYZ24dKpQEIn"
      },
      "source": [
        "dari data user, kita dapat mengetahui jumlah usia para wisatawan. Ternyata, paling banyak usia yang datang ke Yogyakarta dari umur 25 tahun hingga 35 tahun. Ternyata kebanyakan yang datang adalah anak muda beserta teman dan pasangannya."
      ]
    },
    {
      "cell_type": "code",
      "metadata": {
        "colab": {
          "base_uri": "https://localhost:8080/",
          "height": 260
        },
        "id": "U57ni8eH70zB",
        "outputId": "7b392edd-328c-4add-af2f-30c1c338ac14"
      },
      "source": [
        "#Creating Data Visualization Price Distribution for enter tourism\n",
        "\n",
        "plt.figure(figsize=(7,3))\n",
        "sns.boxplot(df_id['Price'])\n",
        "plt.title('Distribusi Harga Masuk Wisata di Kota Yogyakarta', pad=20)\n",
        "plt.show()"
      ],
      "execution_count": null,
      "outputs": [
        {
          "output_type": "display_data",
          "data": {
            "image/png": "[encoded data removed]",
            "text/plain": [
              "<Figure size 504x216 with 1 Axes>"
            ]
          },
          "metadata": {}
        }
      ]
    },
    {
      "cell_type": "markdown",
      "metadata": {
        "id": "ZNxYwD_VQjk6"
      },
      "source": [
        "Siapa bilang liburan ke Yogya harus mahal? Ternyata enggak juga kok. Buktinya Liburan Ke Yogya kamu cukup mengeluarkan Rp 100.000 - Rp 250.000. Wah udah pasti hemat banget plus kamu sangat refreshing."
      ]
    },
    {
      "cell_type": "markdown",
      "metadata": {
        "id": "ho6ROwkbKf7b"
      },
      "source": [
        "Ternyata, wisatawan yang seringkali datang ke Yogyakarta paling banyak berasal dari Bekasi, Semarang, dan Lampung."
      ]
    },
    {
      "cell_type": "code",
      "metadata": {
        "colab": {
          "base_uri": "https://localhost:8080/",
          "height": 410
        },
        "id": "VMUKfeL38Gr9",
        "outputId": "ecd6432a-775d-4f38-ecb9-3998860e81a6"
      },
      "source": [
        "#Filtering Domicili User\n",
        "askot = df_user['Location'].apply(lambda x : x.split(',')[0])\n",
        "\n",
        "# Data Visualization Domicili User\n",
        "plt.figure(figsize=(8,6))\n",
        "sns.countplot(y=askot)\n",
        "plt.title('Jumlah Asal Kota dari User')\n",
        "plt.show()"
      ],
      "execution_count": null,
      "outputs": [
        {
          "output_type": "display_data",
          "data": {
            "image/png": "[encoded data removed]",
            "text/plain": [
              "<Figure size 576x432 with 1 Axes>"
            ]
          },
          "metadata": {}
        }
      ]
    },
    {
      "cell_type": "markdown",
      "metadata": {
        "id": "iiKjwnpLHOis"
      },
      "source": [
        "#6. Modeling Preparation"
      ]
    },
    {
      "cell_type": "markdown",
      "metadata": {
        "id": "VEdwUCsYSHxd"
      },
      "source": [
        "Setelah kita melakukan EDA, sekarang kita dapat melakukan Suprvised Machine Learning (ML) untuk membuat rekomendasi wisata di Yogyakarta. Pertama kali yang akan kita lakukan adalah melakukan modeling dengan penggandaan data df_rating sebagai dasar dataset."
      ]
    },
    {
      "cell_type": "markdown",
      "metadata": {
        "id": "X4n6rcYEHrRp"
      },
      "source": [
        "##6.1. Copy Modeling"
      ]
    },
    {
      "cell_type": "code",
      "metadata": {
        "colab": {
          "base_uri": "https://localhost:8080/",
          "height": 206
        },
        "id": "inwOx9doIA80",
        "outputId": "33f0a058-3256-4893-9244-ad517e67f756"
      },
      "source": [
        "#Dataset for encoding\n",
        "rating = df_rating.copy()\n",
        "rating.head()"
      ],
      "execution_count": null,
      "outputs": [
        {
          "output_type": "execute_result",
          "data": {
            "text/html": [
              "<div>\n",
              "<style scoped>\n",
              "    .dataframe tbody tr th:only-of-type {\n",
              "        vertical-align: middle;\n",
              "    }\n",
              "\n",
              "    .dataframe tbody tr th {\n",
              "        vertical-align: top;\n",
              "    }\n",
              "\n",
              "    .dataframe thead th {\n",
              "        text-align: right;\n",
              "    }\n",
              "</style>\n",
              "<table border=\"1\" class=\"dataframe\">\n",
              "  <thead>\n",
              "    <tr style=\"text-align: right;\">\n",
              "      <th></th>\n",
              "      <th>User_Id</th>\n",
              "      <th>Place_Id</th>\n",
              "      <th>Place_Ratings</th>\n",
              "    </tr>\n",
              "  </thead>\n",
              "  <tbody>\n",
              "    <tr>\n",
              "      <th>0</th>\n",
              "      <td>2</td>\n",
              "      <td>85</td>\n",
              "      <td>4</td>\n",
              "    </tr>\n",
              "    <tr>\n",
              "      <th>1</th>\n",
              "      <td>23</td>\n",
              "      <td>85</td>\n",
              "      <td>4</td>\n",
              "    </tr>\n",
              "    <tr>\n",
              "      <th>2</th>\n",
              "      <td>25</td>\n",
              "      <td>85</td>\n",
              "      <td>2</td>\n",
              "    </tr>\n",
              "    <tr>\n",
              "      <th>3</th>\n",
              "      <td>39</td>\n",
              "      <td>85</td>\n",
              "      <td>5</td>\n",
              "    </tr>\n",
              "    <tr>\n",
              "      <th>4</th>\n",
              "      <td>43</td>\n",
              "      <td>85</td>\n",
              "      <td>4</td>\n",
              "    </tr>\n",
              "  </tbody>\n",
              "</table>\n",
              "</div>"
            ],
            "text/plain": [
              "   User_Id  Place_Id  Place_Ratings\n",
              "0        2        85              4\n",
              "1       23        85              4\n",
              "2       25        85              2\n",
              "3       39        85              5\n",
              "4       43        85              4"
            ]
          },
          "metadata": {},
          "execution_count": 55
        }
      ]
    },
    {
      "cell_type": "markdown",
      "metadata": {
        "id": "odLtuRi2IFTU"
      },
      "source": [
        "##6.2. Encoding"
      ]
    },
    {
      "cell_type": "markdown",
      "metadata": {
        "id": "cdEtRANPSAYx"
      },
      "source": [
        "Setelah melakukan penggandaan data df_rating kita dapat mengubah kolom suatu dataframe menjadi list tanpa nilai yang sama kemudian melakukan encoding value kolom suatu dataframe ke angka dan melakukan enconding angka ke value dari kolom suatu dataframe"
      ]
    },
    {
      "cell_type": "code",
      "metadata": {
        "id": "ifzoMtjLIG6P"
      },
      "source": [
        "def dict_encoder(col, data=rating):\n",
        "\n",
        "  # Mengubah kolom suatu dataframe menjadi list tanpa nilai yang sama\n",
        "  unique_val = data[col].unique().tolist()\n",
        "\n",
        "  # Melakukan encoding value kolom suatu dataframe ke angka\n",
        "  val_to_val_encoded = {x: i for i, x in enumerate(unique_val)}\n",
        "\n",
        "  # Melakukan proses encoding angka ke value dari kolom suatu dataframe\n",
        "  val_encoded_to_val = {i: x for i, x in enumerate(unique_val)}\n",
        "  return val_to_val_encoded, val_encoded_to_val"
      ],
      "execution_count": null,
      "outputs": []
    },
    {
      "cell_type": "markdown",
      "metadata": {
        "id": "0INcX3hLSbcc"
      },
      "source": [
        "Kemudian melakukan encoding user_id dan melakukan mapping user_id sebagai rujukan data dari rekomendasi wisata di Yogyakarta"
      ]
    },
    {
      "cell_type": "code",
      "metadata": {
        "id": "dp45twq9JHKn"
      },
      "source": [
        "# Encoding User_Id\n",
        "user_to_user_encoded, user_encoded_to_user = dict_encoder('User_Id')\n",
        "\n",
        "# Mapping User_Id ke dataframe\n",
        "rating['user'] = rating['User_Id'].map(user_to_user_encoded)"
      ],
      "execution_count": null,
      "outputs": []
    },
    {
      "cell_type": "markdown",
      "metadata": {
        "id": "UHYPm6wKSlHx"
      },
      "source": [
        "Lakukan yang sama untuk tempat rekomendasi."
      ]
    },
    {
      "cell_type": "code",
      "metadata": {
        "id": "6TUmDwiuJHDh"
      },
      "source": [
        "# Encoding Place_Id\n",
        "place_to_place_encoded, place_encoded_to_place = dict_encoder('Place_Id')\n",
        "\n",
        "# Mapping Place_Id ke dataframe place\n",
        "rating['place'] = rating['Place_Id'].map(place_to_place_encoded)"
      ],
      "execution_count": null,
      "outputs": []
    },
    {
      "cell_type": "markdown",
      "metadata": {
        "id": "ZpH193w-JdrA"
      },
      "source": [
        "##6.3. Visualize Modeling"
      ]
    },
    {
      "cell_type": "markdown",
      "metadata": {
        "id": "DnMnmWTTUzVj"
      },
      "source": [
        "Selanjutnya, kita dapat melakukan modelling untuk data visualisasi berdasarkan jumlah user dan tempat, kemudiang mengubah data rating menjadi float. dan mendapatkan nilai minimun dan maksimum."
      ]
    },
    {
      "cell_type": "code",
      "metadata": {
        "colab": {
          "base_uri": "https://localhost:8080/"
        },
        "id": "wgpIkPK0JOH-",
        "outputId": "a29e0f02-2ffe-498c-9f2b-4c7e195b7aa8"
      },
      "source": [
        "# Mendapatkan jumlah user dan place\n",
        "num_users, num_place = len(user_to_user_encoded), len(place_to_place_encoded)\n",
        " \n",
        "# Mengubah rating menjadi nilai float\n",
        "rating['Place_Ratings'] = rating['Place_Ratings'].values.astype(np.float32)\n",
        " \n",
        "# Mendapatkan nilai minimum dan maksimum rating\n",
        "min_rating, max_rating = min(rating['Place_Ratings']), max(rating['Place_Ratings'])\n",
        " \n",
        "print(f'Number of User: {num_users}, Number of Place: {num_place}, Min Rating: {min_rating}, Max Rating: {max_rating}')"
      ],
      "execution_count": null,
      "outputs": [
        {
          "output_type": "stream",
          "name": "stdout",
          "text": [
            "Number of User: 300, Number of Place: 126, Min Rating: 1.0, Max Rating: 5.0\n"
          ]
        }
      ]
    },
    {
      "cell_type": "markdown",
      "metadata": {
        "id": "VE6F2r4MVEOh"
      },
      "source": [
        "Kemudian, kita dapat melakukan cek data yang kita inginkan apakah sudah sesuai, dengan cara melakukan pengacakan terhadap rating."
      ]
    },
    {
      "cell_type": "code",
      "metadata": {
        "colab": {
          "base_uri": "https://localhost:8080/",
          "height": 206
        },
        "id": "hFFwP1-RJUfM",
        "outputId": "4d8babb9-296d-4b1d-9d97-14fa0af8bfdc"
      },
      "source": [
        "# Mengacak dataset\n",
        "rating = rating.sample(frac=1, random_state=42)\n",
        "rating.head(5)"
      ],
      "execution_count": null,
      "outputs": [
        {
          "output_type": "execute_result",
          "data": {
            "text/html": [
              "<div>\n",
              "<style scoped>\n",
              "    .dataframe tbody tr th:only-of-type {\n",
              "        vertical-align: middle;\n",
              "    }\n",
              "\n",
              "    .dataframe tbody tr th {\n",
              "        vertical-align: top;\n",
              "    }\n",
              "\n",
              "    .dataframe thead th {\n",
              "        text-align: right;\n",
              "    }\n",
              "</style>\n",
              "<table border=\"1\" class=\"dataframe\">\n",
              "  <thead>\n",
              "    <tr style=\"text-align: right;\">\n",
              "      <th></th>\n",
              "      <th>User_Id</th>\n",
              "      <th>Place_Id</th>\n",
              "      <th>Place_Ratings</th>\n",
              "      <th>user</th>\n",
              "      <th>place</th>\n",
              "    </tr>\n",
              "  </thead>\n",
              "  <tbody>\n",
              "    <tr>\n",
              "      <th>729</th>\n",
              "      <td>194</td>\n",
              "      <td>115</td>\n",
              "      <td>4.0</td>\n",
              "      <td>130</td>\n",
              "      <td>30</td>\n",
              "    </tr>\n",
              "    <tr>\n",
              "      <th>2067</th>\n",
              "      <td>276</td>\n",
              "      <td>176</td>\n",
              "      <td>2.0</td>\n",
              "      <td>23</td>\n",
              "      <td>91</td>\n",
              "    </tr>\n",
              "    <tr>\n",
              "      <th>1288</th>\n",
              "      <td>197</td>\n",
              "      <td>142</td>\n",
              "      <td>5.0</td>\n",
              "      <td>148</td>\n",
              "      <td>57</td>\n",
              "    </tr>\n",
              "    <tr>\n",
              "      <th>1738</th>\n",
              "      <td>247</td>\n",
              "      <td>162</td>\n",
              "      <td>3.0</td>\n",
              "      <td>20</td>\n",
              "      <td>77</td>\n",
              "    </tr>\n",
              "    <tr>\n",
              "      <th>2078</th>\n",
              "      <td>109</td>\n",
              "      <td>177</td>\n",
              "      <td>2.0</td>\n",
              "      <td>31</td>\n",
              "      <td>92</td>\n",
              "    </tr>\n",
              "  </tbody>\n",
              "</table>\n",
              "</div>"
            ],
            "text/plain": [
              "      User_Id  Place_Id  Place_Ratings  user  place\n",
              "729       194       115            4.0   130     30\n",
              "2067      276       176            2.0    23     91\n",
              "1288      197       142            5.0   148     57\n",
              "1738      247       162            3.0    20     77\n",
              "2078      109       177            2.0    31     92"
            ]
          },
          "metadata": {},
          "execution_count": 60
        }
      ]
    },
    {
      "cell_type": "markdown",
      "metadata": {
        "id": "9i3eZrK5xqxB"
      },
      "source": [
        "#7. Modeling With Machine Learning"
      ]
    },
    {
      "cell_type": "markdown",
      "metadata": {
        "id": "jalRfNtXWUQl"
      },
      "source": [
        "Jika semua sudah sesuai saatnya kita melakukan modelling untuk Machine Learning. Dengan cara mengabungkan data user dengan place menjadi satu value."
      ]
    },
    {
      "cell_type": "code",
      "metadata": {
        "id": "HGH31vW1xvbH"
      },
      "source": [
        "# Membuat variabel x untuk mencocokkan data user dan place menjadi satu value\n",
        "x = rating[['user', 'place']].values\n",
        " \n",
        "# Membuat variabel y untuk membuat rating dari hasil \n",
        "y = rating['Place_Ratings'].apply(lambda x: (x - min_rating) / (max_rating - min_rating)).values\n",
        " \n",
        "# Membagi menjadi 80% data train dan 20% data validasi\n",
        "train_indices = int(0.8 * rating.shape[0])\n",
        "x_train, x_val, y_train, y_val = (\n",
        "    x[:train_indices],\n",
        "    x[train_indices:],\n",
        "    y[:train_indices],\n",
        "    y[train_indices:]\n",
        ")"
      ],
      "execution_count": null,
      "outputs": []
    },
    {
      "cell_type": "markdown",
      "metadata": {
        "id": "Pwb2HViEzZxl"
      },
      "source": [
        "##7.1. Preparing Model"
      ]
    },
    {
      "cell_type": "markdown",
      "metadata": {
        "id": "RnIMworWWkPb"
      },
      "source": [
        "Saatnya melakukan modelling dengan menggunakan rekomendasi net."
      ]
    },
    {
      "cell_type": "code",
      "metadata": {
        "id": "g_JOji0jyAqH"
      },
      "source": [
        "class RecommenderNet(tf.keras.Model):\n",
        " \n",
        "  # Insialisasi fungsi\n",
        "  def __init__(self, num_users, num_places, embedding_size, **kwargs):\n",
        "    super(RecommenderNet, self).__init__(**kwargs)\n",
        "    self.num_users = num_users\n",
        "    self.num_places = num_places\n",
        "    self.embedding_size = embedding_size\n",
        "    self.user_embedding = layers.Embedding( # layer embedding user\n",
        "        num_users,\n",
        "        embedding_size,\n",
        "        embeddings_initializer = 'he_normal',\n",
        "        embeddings_regularizer = keras.regularizers.l2(1e-6)\n",
        "    )\n",
        "    self.user_bias = layers.Embedding(num_users, 1) # layer embedding user bias\n",
        "    self.places_embedding = layers.Embedding( # layer embeddings places\n",
        "        num_places,\n",
        "        embedding_size,\n",
        "        embeddings_initializer = 'he_normal',\n",
        "        embeddings_regularizer = keras.regularizers.l2(1e-6)\n",
        "    )\n",
        "    self.places_bias = layers.Embedding(num_places, 1) # layer embedding places bias\n",
        " \n",
        "  def call(self, inputs):\n",
        "    user_vector = self.user_embedding(inputs[:,0]) # memanggil layer embedding 1\n",
        "    user_bias = self.user_bias(inputs[:, 0]) # memanggil layer embedding 2\n",
        "    places_vector = self.places_embedding(inputs[:, 1]) # memanggil layer embedding 3\n",
        "    places_bias = self.places_bias(inputs[:, 1]) # memanggil layer embedding 4\n",
        " \n",
        "    dot_user_places = tf.tensordot(user_vector, places_vector, 2) \n",
        " \n",
        "    x = dot_user_places + user_bias + places_bias\n",
        "    \n",
        "    return tf.nn.sigmoid(x) # activation sigmoid"
      ],
      "execution_count": null,
      "outputs": []
    },
    {
      "cell_type": "markdown",
      "metadata": {
        "id": "9VK2f4Axzkk-"
      },
      "source": [
        "##7.2. Inisiasi Model"
      ]
    },
    {
      "cell_type": "markdown",
      "metadata": {
        "id": "l1NLJUqEWpWY"
      },
      "source": [
        "selanjutnya, kita dapat melakukan inisiasi model"
      ]
    },
    {
      "cell_type": "code",
      "metadata": {
        "id": "b3wY8E82zgUZ"
      },
      "source": [
        "model = RecommenderNet(num_users, num_place, 50) # inisialisasi model\n",
        " \n",
        "# model compile\n",
        "model.compile(\n",
        "    loss = tf.keras.losses.BinaryCrossentropy(),\n",
        "    optimizer = keras.optimizers.Adam(learning_rate=0.0004),\n",
        "    metrics=[tf.keras.metrics.RootMeanSquaredError()]\n",
        ")"
      ],
      "execution_count": null,
      "outputs": []
    },
    {
      "cell_type": "markdown",
      "metadata": {
        "id": "xvLkcww00LJH"
      },
      "source": [
        "##7.3. Inisiasi Callback"
      ]
    },
    {
      "cell_type": "markdown",
      "metadata": {
        "id": "QFWdHyeEWwdC"
      },
      "source": [
        "lalu melakukan callback agar metriks validasi sudah sesuai harapan."
      ]
    },
    {
      "cell_type": "code",
      "metadata": {
        "id": "TUz7tVJ4zpjU"
      },
      "source": [
        " class myCallback(tf.keras.callbacks.Callback):\n",
        "  def on_epoch_end(self, epoch, logs={}):\n",
        "    if(logs.get('val_root_mean_squared_error')<0.25):\n",
        "      print('Lapor! Metriks validasi sudah sesuai harapan')\n",
        "      self.model.stop_training = True"
      ],
      "execution_count": null,
      "outputs": []
    },
    {
      "cell_type": "markdown",
      "metadata": {
        "id": "QwPpBkjr0PB5"
      },
      "source": [
        "## 7.4. Proses Training"
      ]
    },
    {
      "cell_type": "markdown",
      "metadata": {
        "id": "7GnC_bTHW2KP"
      },
      "source": [
        "saatnya, melakukan training terhadap modelling."
      ]
    },
    {
      "cell_type": "code",
      "metadata": {
        "colab": {
          "base_uri": "https://localhost:8080/"
        },
        "id": "JjBgjdlW0Xl7",
        "outputId": "50dd6a59-df60-4b4b-e988-b1e44253dc19"
      },
      "source": [
        "# Memulai training\n",
        " \n",
        "history = model.fit(\n",
        "    x = x_train,\n",
        "    y = y_train,\n",
        "    epochs = 100,\n",
        "    validation_data = (x_val, y_val),\n",
        "    callbacks = [myCallback()]\n",
        ")"
      ],
      "execution_count": null,
      "outputs": [
        {
          "output_type": "stream",
          "name": "stdout",
          "text": [
            "Epoch 1/100\n",
            "72/72 [==============================] - 1s 5ms/step - loss: 0.7103 - root_mean_squared_error: 0.3628 - val_loss: 0.6988 - val_root_mean_squared_error: 0.3450\n",
            "Epoch 2/100\n",
            "72/72 [==============================] - 0s 2ms/step - loss: 0.7090 - root_mean_squared_error: 0.3618 - val_loss: 0.6985 - val_root_mean_squared_error: 0.3448\n",
            "Epoch 3/100\n",
            "72/72 [==============================] - 0s 3ms/step - loss: 0.7111 - root_mean_squared_error: 0.3633 - val_loss: 0.6992 - val_root_mean_squared_error: 0.3453\n",
            "Epoch 4/100\n",
            "72/72 [==============================] - 0s 2ms/step - loss: 0.7110 - root_mean_squared_error: 0.3631 - val_loss: 0.6992 - val_root_mean_squared_error: 0.3453\n",
            "Epoch 5/100\n",
            "72/72 [==============================] - 0s 2ms/step - loss: 0.7072 - root_mean_squared_error: 0.3607 - val_loss: 0.6990 - val_root_mean_squared_error: 0.3452\n",
            "Epoch 6/100\n",
            "72/72 [==============================] - 0s 3ms/step - loss: 0.6974 - root_mean_squared_error: 0.3540 - val_loss: 0.6990 - val_root_mean_squared_error: 0.3452\n",
            "Epoch 7/100\n",
            "72/72 [==============================] - 0s 3ms/step - loss: 0.7040 - root_mean_squared_error: 0.3586 - val_loss: 0.6983 - val_root_mean_squared_error: 0.3447\n",
            "Epoch 8/100\n",
            "72/72 [==============================] - 0s 3ms/step - loss: 0.6974 - root_mean_squared_error: 0.3540 - val_loss: 0.6975 - val_root_mean_squared_error: 0.3441\n",
            "Epoch 9/100\n",
            "72/72 [==============================] - 0s 3ms/step - loss: 0.7061 - root_mean_squared_error: 0.3596 - val_loss: 0.6974 - val_root_mean_squared_error: 0.3441\n",
            "Epoch 10/100\n",
            "72/72 [==============================] - 0s 2ms/step - loss: 0.6983 - root_mean_squared_error: 0.3545 - val_loss: 0.6972 - val_root_mean_squared_error: 0.3439\n",
            "Epoch 11/100\n",
            "72/72 [==============================] - 0s 2ms/step - loss: 0.6977 - root_mean_squared_error: 0.3543 - val_loss: 0.6969 - val_root_mean_squared_error: 0.3437\n",
            "Epoch 12/100\n",
            "72/72 [==============================] - 0s 2ms/step - loss: 0.6995 - root_mean_squared_error: 0.3554 - val_loss: 0.6963 - val_root_mean_squared_error: 0.3433\n",
            "Epoch 13/100\n",
            "72/72 [==============================] - 0s 2ms/step - loss: 0.6947 - root_mean_squared_error: 0.3521 - val_loss: 0.6968 - val_root_mean_squared_error: 0.3436\n",
            "Epoch 14/100\n",
            "72/72 [==============================] - 0s 3ms/step - loss: 0.6958 - root_mean_squared_error: 0.3530 - val_loss: 0.6977 - val_root_mean_squared_error: 0.3443\n",
            "Epoch 15/100\n",
            "72/72 [==============================] - 0s 2ms/step - loss: 0.6938 - root_mean_squared_error: 0.3517 - val_loss: 0.6981 - val_root_mean_squared_error: 0.3446\n",
            "Epoch 16/100\n",
            "72/72 [==============================] - 0s 2ms/step - loss: 0.6920 - root_mean_squared_error: 0.3504 - val_loss: 0.6985 - val_root_mean_squared_error: 0.3448\n",
            "Epoch 17/100\n",
            "72/72 [==============================] - 0s 2ms/step - loss: 0.6950 - root_mean_squared_error: 0.3524 - val_loss: 0.6985 - val_root_mean_squared_error: 0.3448\n",
            "Epoch 18/100\n",
            "72/72 [==============================] - 0s 3ms/step - loss: 0.6926 - root_mean_squared_error: 0.3506 - val_loss: 0.6992 - val_root_mean_squared_error: 0.3453\n",
            "Epoch 19/100\n",
            "72/72 [==============================] - 0s 2ms/step - loss: 0.6891 - root_mean_squared_error: 0.3484 - val_loss: 0.6993 - val_root_mean_squared_error: 0.3454\n",
            "Epoch 20/100\n",
            "72/72 [==============================] - 0s 2ms/step - loss: 0.6821 - root_mean_squared_error: 0.3434 - val_loss: 0.6991 - val_root_mean_squared_error: 0.3453\n",
            "Epoch 21/100\n",
            "72/72 [==============================] - 0s 2ms/step - loss: 0.6874 - root_mean_squared_error: 0.3471 - val_loss: 0.6993 - val_root_mean_squared_error: 0.3454\n",
            "Epoch 22/100\n",
            "72/72 [==============================] - 0s 2ms/step - loss: 0.6865 - root_mean_squared_error: 0.3465 - val_loss: 0.6996 - val_root_mean_squared_error: 0.3456\n",
            "Epoch 23/100\n",
            "72/72 [==============================] - 0s 2ms/step - loss: 0.6836 - root_mean_squared_error: 0.3446 - val_loss: 0.6990 - val_root_mean_squared_error: 0.3453\n",
            "Epoch 24/100\n",
            "72/72 [==============================] - 0s 2ms/step - loss: 0.6874 - root_mean_squared_error: 0.3472 - val_loss: 0.6990 - val_root_mean_squared_error: 0.3452\n",
            "Epoch 25/100\n",
            "72/72 [==============================] - 0s 2ms/step - loss: 0.6874 - root_mean_squared_error: 0.3471 - val_loss: 0.6989 - val_root_mean_squared_error: 0.3451\n",
            "Epoch 26/100\n",
            "72/72 [==============================] - 0s 2ms/step - loss: 0.6791 - root_mean_squared_error: 0.3413 - val_loss: 0.6993 - val_root_mean_squared_error: 0.3454\n",
            "Epoch 27/100\n",
            "72/72 [==============================] - 0s 3ms/step - loss: 0.6815 - root_mean_squared_error: 0.3430 - val_loss: 0.6993 - val_root_mean_squared_error: 0.3454\n",
            "Epoch 28/100\n",
            "72/72 [==============================] - 0s 2ms/step - loss: 0.6839 - root_mean_squared_error: 0.3447 - val_loss: 0.6994 - val_root_mean_squared_error: 0.3455\n",
            "Epoch 29/100\n",
            "72/72 [==============================] - 0s 2ms/step - loss: 0.6783 - root_mean_squared_error: 0.3408 - val_loss: 0.6991 - val_root_mean_squared_error: 0.3453\n",
            "Epoch 30/100\n",
            "72/72 [==============================] - 0s 2ms/step - loss: 0.6809 - root_mean_squared_error: 0.3426 - val_loss: 0.6990 - val_root_mean_squared_error: 0.3452\n",
            "Epoch 31/100\n",
            "72/72 [==============================] - 0s 2ms/step - loss: 0.6769 - root_mean_squared_error: 0.3397 - val_loss: 0.6995 - val_root_mean_squared_error: 0.3456\n",
            "Epoch 32/100\n",
            "72/72 [==============================] - 0s 2ms/step - loss: 0.6795 - root_mean_squared_error: 0.3416 - val_loss: 0.6997 - val_root_mean_squared_error: 0.3457\n",
            "Epoch 33/100\n",
            "72/72 [==============================] - 0s 2ms/step - loss: 0.6757 - root_mean_squared_error: 0.3389 - val_loss: 0.7002 - val_root_mean_squared_error: 0.3460\n",
            "Epoch 34/100\n",
            "72/72 [==============================] - 0s 2ms/step - loss: 0.6750 - root_mean_squared_error: 0.3384 - val_loss: 0.7005 - val_root_mean_squared_error: 0.3462\n",
            "Epoch 35/100\n",
            "72/72 [==============================] - 0s 2ms/step - loss: 0.6752 - root_mean_squared_error: 0.3385 - val_loss: 0.7015 - val_root_mean_squared_error: 0.3469\n",
            "Epoch 36/100\n",
            "72/72 [==============================] - 0s 3ms/step - loss: 0.6761 - root_mean_squared_error: 0.3392 - val_loss: 0.7016 - val_root_mean_squared_error: 0.3470\n",
            "Epoch 37/100\n",
            "72/72 [==============================] - 0s 2ms/step - loss: 0.6758 - root_mean_squared_error: 0.3389 - val_loss: 0.7026 - val_root_mean_squared_error: 0.3477\n",
            "Epoch 38/100\n",
            "72/72 [==============================] - 0s 2ms/step - loss: 0.6716 - root_mean_squared_error: 0.3359 - val_loss: 0.7029 - val_root_mean_squared_error: 0.3479\n",
            "Epoch 39/100\n",
            "72/72 [==============================] - 0s 3ms/step - loss: 0.6745 - root_mean_squared_error: 0.3380 - val_loss: 0.7025 - val_root_mean_squared_error: 0.3476\n",
            "Epoch 40/100\n",
            "72/72 [==============================] - 0s 3ms/step - loss: 0.6739 - root_mean_squared_error: 0.3376 - val_loss: 0.7015 - val_root_mean_squared_error: 0.3469\n",
            "Epoch 41/100\n",
            "72/72 [==============================] - 0s 2ms/step - loss: 0.6700 - root_mean_squared_error: 0.3347 - val_loss: 0.7020 - val_root_mean_squared_error: 0.3473\n",
            "Epoch 42/100\n",
            "72/72 [==============================] - 0s 2ms/step - loss: 0.6681 - root_mean_squared_error: 0.3333 - val_loss: 0.7026 - val_root_mean_squared_error: 0.3477\n",
            "Epoch 43/100\n",
            "72/72 [==============================] - 0s 2ms/step - loss: 0.6722 - root_mean_squared_error: 0.3364 - val_loss: 0.7028 - val_root_mean_squared_error: 0.3479\n",
            "Epoch 44/100\n",
            "72/72 [==============================] - 0s 3ms/step - loss: 0.6729 - root_mean_squared_error: 0.3369 - val_loss: 0.7031 - val_root_mean_squared_error: 0.3481\n",
            "Epoch 45/100\n",
            "72/72 [==============================] - 0s 3ms/step - loss: 0.6682 - root_mean_squared_error: 0.3334 - val_loss: 0.7037 - val_root_mean_squared_error: 0.3485\n",
            "Epoch 46/100\n",
            "72/72 [==============================] - 0s 3ms/step - loss: 0.6677 - root_mean_squared_error: 0.3330 - val_loss: 0.7046 - val_root_mean_squared_error: 0.3491\n",
            "Epoch 47/100\n",
            "72/72 [==============================] - 0s 2ms/step - loss: 0.6687 - root_mean_squared_error: 0.3338 - val_loss: 0.7056 - val_root_mean_squared_error: 0.3498\n",
            "Epoch 48/100\n",
            "72/72 [==============================] - 0s 2ms/step - loss: 0.6673 - root_mean_squared_error: 0.3327 - val_loss: 0.7055 - val_root_mean_squared_error: 0.3497\n",
            "Epoch 49/100\n",
            "72/72 [==============================] - 0s 3ms/step - loss: 0.6679 - root_mean_squared_error: 0.3332 - val_loss: 0.7053 - val_root_mean_squared_error: 0.3496\n",
            "Epoch 50/100\n",
            "72/72 [==============================] - 0s 2ms/step - loss: 0.6667 - root_mean_squared_error: 0.3324 - val_loss: 0.7053 - val_root_mean_squared_error: 0.3496\n",
            "Epoch 51/100\n",
            "72/72 [==============================] - 0s 2ms/step - loss: 0.6683 - root_mean_squared_error: 0.3335 - val_loss: 0.7047 - val_root_mean_squared_error: 0.3491\n",
            "Epoch 52/100\n",
            "72/72 [==============================] - 0s 3ms/step - loss: 0.6661 - root_mean_squared_error: 0.3319 - val_loss: 0.7045 - val_root_mean_squared_error: 0.3491\n",
            "Epoch 53/100\n",
            "72/72 [==============================] - 0s 2ms/step - loss: 0.6657 - root_mean_squared_error: 0.3316 - val_loss: 0.7045 - val_root_mean_squared_error: 0.3490\n",
            "Epoch 54/100\n",
            "72/72 [==============================] - 0s 2ms/step - loss: 0.6660 - root_mean_squared_error: 0.3318 - val_loss: 0.7049 - val_root_mean_squared_error: 0.3493\n",
            "Epoch 55/100\n",
            "72/72 [==============================] - 0s 3ms/step - loss: 0.6648 - root_mean_squared_error: 0.3310 - val_loss: 0.7053 - val_root_mean_squared_error: 0.3496\n",
            "Epoch 56/100\n",
            "72/72 [==============================] - 0s 2ms/step - loss: 0.6663 - root_mean_squared_error: 0.3320 - val_loss: 0.7044 - val_root_mean_squared_error: 0.3490\n",
            "Epoch 57/100\n",
            "72/72 [==============================] - 0s 2ms/step - loss: 0.6661 - root_mean_squared_error: 0.3319 - val_loss: 0.7045 - val_root_mean_squared_error: 0.3491\n",
            "Epoch 58/100\n",
            "72/72 [==============================] - 0s 2ms/step - loss: 0.6635 - root_mean_squared_error: 0.3300 - val_loss: 0.7048 - val_root_mean_squared_error: 0.3493\n",
            "Epoch 59/100\n",
            "72/72 [==============================] - 0s 3ms/step - loss: 0.6633 - root_mean_squared_error: 0.3298 - val_loss: 0.7054 - val_root_mean_squared_error: 0.3497\n",
            "Epoch 60/100\n",
            "72/72 [==============================] - 0s 3ms/step - loss: 0.6645 - root_mean_squared_error: 0.3307 - val_loss: 0.7054 - val_root_mean_squared_error: 0.3497\n",
            "Epoch 61/100\n",
            "72/72 [==============================] - 0s 2ms/step - loss: 0.6636 - root_mean_squared_error: 0.3301 - val_loss: 0.7051 - val_root_mean_squared_error: 0.3495\n",
            "Epoch 62/100\n",
            "72/72 [==============================] - 0s 2ms/step - loss: 0.6626 - root_mean_squared_error: 0.3293 - val_loss: 0.7053 - val_root_mean_squared_error: 0.3496\n",
            "Epoch 63/100\n",
            "72/72 [==============================] - 0s 2ms/step - loss: 0.6622 - root_mean_squared_error: 0.3290 - val_loss: 0.7054 - val_root_mean_squared_error: 0.3497\n",
            "Epoch 64/100\n",
            "72/72 [==============================] - 0s 2ms/step - loss: 0.6602 - root_mean_squared_error: 0.3275 - val_loss: 0.7060 - val_root_mean_squared_error: 0.3501\n",
            "Epoch 65/100\n",
            "72/72 [==============================] - 0s 2ms/step - loss: 0.6612 - root_mean_squared_error: 0.3282 - val_loss: 0.7056 - val_root_mean_squared_error: 0.3498\n",
            "Epoch 66/100\n",
            "72/72 [==============================] - 0s 2ms/step - loss: 0.6643 - root_mean_squared_error: 0.3305 - val_loss: 0.7059 - val_root_mean_squared_error: 0.3500\n",
            "Epoch 67/100\n",
            "72/72 [==============================] - 0s 2ms/step - loss: 0.6618 - root_mean_squared_error: 0.3287 - val_loss: 0.7066 - val_root_mean_squared_error: 0.3505\n",
            "Epoch 68/100\n",
            "72/72 [==============================] - 0s 3ms/step - loss: 0.6619 - root_mean_squared_error: 0.3288 - val_loss: 0.7069 - val_root_mean_squared_error: 0.3507\n",
            "Epoch 69/100\n",
            "72/72 [==============================] - 0s 2ms/step - loss: 0.6583 - root_mean_squared_error: 0.3261 - val_loss: 0.7070 - val_root_mean_squared_error: 0.3507\n",
            "Epoch 70/100\n",
            "72/72 [==============================] - 0s 2ms/step - loss: 0.6597 - root_mean_squared_error: 0.3273 - val_loss: 0.7066 - val_root_mean_squared_error: 0.3505\n",
            "Epoch 71/100\n",
            "72/72 [==============================] - 0s 2ms/step - loss: 0.6594 - root_mean_squared_error: 0.3269 - val_loss: 0.7067 - val_root_mean_squared_error: 0.3505\n",
            "Epoch 72/100\n",
            "72/72 [==============================] - 0s 3ms/step - loss: 0.6587 - root_mean_squared_error: 0.3265 - val_loss: 0.7070 - val_root_mean_squared_error: 0.3507\n",
            "Epoch 73/100\n",
            "72/72 [==============================] - 0s 3ms/step - loss: 0.6603 - root_mean_squared_error: 0.3277 - val_loss: 0.7074 - val_root_mean_squared_error: 0.3510\n",
            "Epoch 74/100\n",
            "72/72 [==============================] - 0s 3ms/step - loss: 0.6592 - root_mean_squared_error: 0.3269 - val_loss: 0.7078 - val_root_mean_squared_error: 0.3512\n",
            "Epoch 75/100\n",
            "72/72 [==============================] - 0s 2ms/step - loss: 0.6566 - root_mean_squared_error: 0.3248 - val_loss: 0.7078 - val_root_mean_squared_error: 0.3513\n",
            "Epoch 76/100\n",
            "72/72 [==============================] - 0s 2ms/step - loss: 0.6597 - root_mean_squared_error: 0.3273 - val_loss: 0.7081 - val_root_mean_squared_error: 0.3514\n",
            "Epoch 77/100\n",
            "72/72 [==============================] - 0s 3ms/step - loss: 0.6569 - root_mean_squared_error: 0.3252 - val_loss: 0.7081 - val_root_mean_squared_error: 0.3515\n",
            "Epoch 78/100\n",
            "72/72 [==============================] - 0s 3ms/step - loss: 0.6559 - root_mean_squared_error: 0.3245 - val_loss: 0.7083 - val_root_mean_squared_error: 0.3516\n",
            "Epoch 79/100\n",
            "72/72 [==============================] - 0s 2ms/step - loss: 0.6571 - root_mean_squared_error: 0.3252 - val_loss: 0.7081 - val_root_mean_squared_error: 0.3515\n",
            "Epoch 80/100\n",
            "72/72 [==============================] - 0s 2ms/step - loss: 0.6574 - root_mean_squared_error: 0.3255 - val_loss: 0.7086 - val_root_mean_squared_error: 0.3517\n",
            "Epoch 81/100\n",
            "72/72 [==============================] - 0s 3ms/step - loss: 0.6552 - root_mean_squared_error: 0.3240 - val_loss: 0.7086 - val_root_mean_squared_error: 0.3517\n",
            "Epoch 82/100\n",
            "72/72 [==============================] - 0s 2ms/step - loss: 0.6575 - root_mean_squared_error: 0.3255 - val_loss: 0.7080 - val_root_mean_squared_error: 0.3514\n",
            "Epoch 83/100\n",
            "72/72 [==============================] - 0s 3ms/step - loss: 0.6565 - root_mean_squared_error: 0.3248 - val_loss: 0.7077 - val_root_mean_squared_error: 0.3512\n",
            "Epoch 84/100\n",
            "72/72 [==============================] - 0s 3ms/step - loss: 0.6566 - root_mean_squared_error: 0.3249 - val_loss: 0.7083 - val_root_mean_squared_error: 0.3515\n",
            "Epoch 85/100\n",
            "72/72 [==============================] - 0s 3ms/step - loss: 0.6543 - root_mean_squared_error: 0.3234 - val_loss: 0.7075 - val_root_mean_squared_error: 0.3510\n",
            "Epoch 86/100\n",
            "72/72 [==============================] - 0s 2ms/step - loss: 0.6546 - root_mean_squared_error: 0.3235 - val_loss: 0.7075 - val_root_mean_squared_error: 0.3510\n",
            "Epoch 87/100\n",
            "72/72 [==============================] - 0s 2ms/step - loss: 0.6534 - root_mean_squared_error: 0.3227 - val_loss: 0.7077 - val_root_mean_squared_error: 0.3511\n",
            "Epoch 88/100\n",
            "72/72 [==============================] - 0s 2ms/step - loss: 0.6570 - root_mean_squared_error: 0.3252 - val_loss: 0.7080 - val_root_mean_squared_error: 0.3513\n",
            "Epoch 89/100\n",
            "72/72 [==============================] - 0s 2ms/step - loss: 0.6553 - root_mean_squared_error: 0.3240 - val_loss: 0.7085 - val_root_mean_squared_error: 0.3517\n",
            "Epoch 90/100\n",
            "72/72 [==============================] - 0s 3ms/step - loss: 0.6539 - root_mean_squared_error: 0.3229 - val_loss: 0.7086 - val_root_mean_squared_error: 0.3517\n",
            "Epoch 91/100\n",
            "72/72 [==============================] - 0s 3ms/step - loss: 0.6541 - root_mean_squared_error: 0.3231 - val_loss: 0.7081 - val_root_mean_squared_error: 0.3514\n",
            "Epoch 92/100\n",
            "72/72 [==============================] - 0s 2ms/step - loss: 0.6546 - root_mean_squared_error: 0.3235 - val_loss: 0.7081 - val_root_mean_squared_error: 0.3514\n",
            "Epoch 93/100\n",
            "72/72 [==============================] - 0s 3ms/step - loss: 0.6562 - root_mean_squared_error: 0.3247 - val_loss: 0.7086 - val_root_mean_squared_error: 0.3517\n",
            "Epoch 94/100\n",
            "72/72 [==============================] - 0s 2ms/step - loss: 0.6557 - root_mean_squared_error: 0.3242 - val_loss: 0.7097 - val_root_mean_squared_error: 0.3524\n",
            "Epoch 95/100\n",
            "72/72 [==============================] - 0s 2ms/step - loss: 0.6567 - root_mean_squared_error: 0.3250 - val_loss: 0.7105 - val_root_mean_squared_error: 0.3530\n",
            "Epoch 96/100\n",
            "72/72 [==============================] - 0s 2ms/step - loss: 0.6554 - root_mean_squared_error: 0.3240 - val_loss: 0.7109 - val_root_mean_squared_error: 0.3532\n",
            "Epoch 97/100\n",
            "72/72 [==============================] - 0s 2ms/step - loss: 0.6543 - root_mean_squared_error: 0.3232 - val_loss: 0.7118 - val_root_mean_squared_error: 0.3538\n",
            "Epoch 98/100\n",
            "72/72 [==============================] - 0s 2ms/step - loss: 0.6544 - root_mean_squared_error: 0.3233 - val_loss: 0.7123 - val_root_mean_squared_error: 0.3541\n",
            "Epoch 99/100\n",
            "72/72 [==============================] - 0s 2ms/step - loss: 0.6507 - root_mean_squared_error: 0.3207 - val_loss: 0.7123 - val_root_mean_squared_error: 0.3541\n",
            "Epoch 100/100\n",
            "72/72 [==============================] - 0s 3ms/step - loss: 0.6525 - root_mean_squared_error: 0.3219 - val_loss: 0.7113 - val_root_mean_squared_error: 0.3535\n"
          ]
        }
      ]
    },
    {
      "cell_type": "markdown",
      "metadata": {
        "id": "AzAiHcwWW7HX"
      },
      "source": [
        "lalu menuangkannya dengan menampilkan plot loss dan validation. "
      ]
    },
    {
      "cell_type": "code",
      "metadata": {
        "colab": {
          "base_uri": "https://localhost:8080/",
          "height": 301
        },
        "id": "Df9EbIY002mR",
        "outputId": "f8987662-6001-4f7f-f493-1c5f7b9dfad5"
      },
      "source": [
        "# Menampilkan plot loss dan validation\n",
        "\n",
        "plt.plot(history.history['root_mean_squared_error'])\n",
        "plt.plot(history.history['val_root_mean_squared_error'])\n",
        "plt.title('model_metrics')\n",
        "plt.ylabel('root_mean_squared_error')\n",
        "plt.xlabel('epoch')\n",
        "plt.ylim(ymin=0, ymax=0.4)\n",
        "plt.legend(['train', 'test'], loc='center left')\n",
        "plt.show()"
      ],
      "execution_count": null,
      "outputs": [
        {
          "output_type": "display_data",
          "data": {
            "image/png": "[encoded data removed]",
            "text/plain": [
              "<Figure size 432x288 with 1 Axes>"
            ]
          },
          "metadata": {}
        }
      ]
    },
    {
      "cell_type": "markdown",
      "metadata": {
        "id": "aiWJqoqL1V0k"
      },
      "source": [
        "#8. Memprediksi Rekomendasi\n",
        "\n",
        "\n"
      ]
    },
    {
      "cell_type": "markdown",
      "metadata": {
        "id": "zu5AtpJrXBj5"
      },
      "source": [
        "Langkah terakhir kita dapat melakukan prediksi rekomendasi."
      ]
    },
    {
      "cell_type": "markdown",
      "metadata": {
        "id": "aoYkzcGY3xoE"
      },
      "source": [
        "##8.1. Menyiapkan dataframe"
      ]
    },
    {
      "cell_type": "markdown",
      "metadata": {
        "id": "Y_W1BNA5XA4J"
      },
      "source": [
        "Kita siapkan dataframenya, disertai dengan variablenya."
      ]
    },
    {
      "cell_type": "code",
      "metadata": {
        "id": "-nTeA1zT1ag4"
      },
      "source": [
        "# Menyiapkan dataframe\n",
        "place_df = df_id[['Place_Id','Place_Name','Category','Rating','Price']]\n",
        "place_df.columns = ['id','place_name','category','rating','price']\n",
        "df = rating.copy()"
      ],
      "execution_count": null,
      "outputs": []
    },
    {
      "cell_type": "markdown",
      "metadata": {
        "id": "GVYf8MWo3vsa"
      },
      "source": [
        "8.1.1. jangan lupa, kita juga siapkan sample user yang dijadikan dasar perhitungan rekomendasi wisata"
      ]
    },
    {
      "cell_type": "code",
      "metadata": {
        "id": "IyTJnGEx36Ph"
      },
      "source": [
        "# Mengambil sample user\n",
        "user_id = df.User_Id.sample(1).iloc[0]\n",
        "place_visited_by_user = df[df.User_Id == user_id]"
      ],
      "execution_count": null,
      "outputs": []
    },
    {
      "cell_type": "markdown",
      "metadata": {
        "id": "emCqv1No4HcX"
      },
      "source": [
        "## 8.2. Lokasi yang belum pernah dikunjungi user"
      ]
    },
    {
      "cell_type": "markdown",
      "metadata": {
        "id": "RLEM5ROGX377"
      },
      "source": [
        "Lalu, mengeluarkan hasil lokasi yang belum pernah dikunjungi user, agar user tersebut dapat mengunjungi tempat baru."
      ]
    },
    {
      "cell_type": "code",
      "metadata": {
        "id": "kC7hxktp396I"
      },
      "source": [
        "# Membuat data lokasi yang belum dikunjungi user\n",
        "place_not_visited = place_df[~place_df['id'].isin(place_visited_by_user.Place_Id.values)]['id'] \n",
        "place_not_visited = list(\n",
        "    set(place_not_visited)\n",
        "    .intersection(set(place_to_place_encoded.keys()))\n",
        ")\n",
        " \n",
        "place_not_visited = [[place_to_place_encoded.get(x)] for x in place_not_visited]\n",
        "user_encoder = user_to_user_encoded.get(user_id)\n",
        "user_place_array = np.hstack(\n",
        "    ([[user_encoder]] * len(place_not_visited), place_not_visited)\n",
        ")"
      ],
      "execution_count": null,
      "outputs": []
    },
    {
      "cell_type": "markdown",
      "metadata": {
        "id": "Wp4odn-o4Ocl"
      },
      "source": [
        "##8.3. Hasil Rekomendasi User"
      ]
    },
    {
      "cell_type": "markdown",
      "metadata": {
        "id": "Gz42A-YRbO3U"
      },
      "source": [
        "And Finally.... Hasilnya, ML akan membuat 7 daftar rekomendasi dari beberapa user dengan wisata paling tinggi beserta dengan kategori, harga tiket masuk, dan ratingnya."
      ]
    },
    {
      "cell_type": "code",
      "metadata": {
        "colab": {
          "base_uri": "https://localhost:8080/"
        },
        "id": "dk4CrYdZ4T4w",
        "outputId": "2fb4a5dd-3c72-4f7f-9548-74b361a01366"
      },
      "source": [
        "# Mengambil top 7 recommendation\n",
        "ratings = model.predict(user_place_array).flatten()\n",
        "top_ratings_indices = ratings.argsort()[-7:][::-1]\n",
        "recommended_place_ids = [\n",
        "    place_encoded_to_place.get(place_not_visited[x][0]) for x in top_ratings_indices\n",
        "]\n",
        " \n",
        "print('Daftar rekomendasi untuk: {}'.format('User ' + str(user_id)))\n",
        "print('===' * 15,'\\n')\n",
        "print('----' * 15)\n",
        "print('Tempat dengan rating wisata paling tinggi dari user')\n",
        "print('----' * 15)\n",
        " \n",
        "top_place_user = (\n",
        "    place_visited_by_user.sort_values(\n",
        "        by = 'Place_Ratings',\n",
        "        ascending=False\n",
        "    )\n",
        "    .head(5)\n",
        "    .Place_Id.values\n",
        ")\n",
        " \n",
        "place_df_rows = place_df[place_df['id'].isin(top_place_user)]\n",
        "for row in place_df_rows.itertuples():\n",
        "    print(row.place_name, ':', row.category)\n",
        "\n",
        "print('')\n",
        "print('----' * 15)\n",
        "print('Top 7 place recommendation')\n",
        "print('----' * 15)\n",
        " \n",
        "recommended_place = place_df[place_df['id'].isin(recommended_place_ids)]\n",
        "for row, i in zip(recommended_place.itertuples(), range(1,8)):\n",
        "    print(i,'.', row.place_name, '\\n    ', row.category, ',', 'Harga Tiket Masuk ', row.price, ',', 'Rating Wisata ', row.rating,'\\n')\n",
        "\n",
        "print('==='*15)"
      ],
      "execution_count": null,
      "outputs": [
        {
          "output_type": "stream",
          "name": "stdout",
          "text": [
            "Daftar rekomendasi untuk: User 71\n",
            "============================================= \n",
            "\n",
            "------------------------------------------------------------\n",
            "Tempat dengan rating wisata paling tinggi dari user\n",
            "------------------------------------------------------------\n",
            "Grojogan Watu Purbo Bangunrejo : Taman Hiburan\n",
            "Kampung Wisata Dipowinatan : Budaya\n",
            "Watu Mabur Mangunan : Cagar Alam\n",
            "Pantai Jungwok : Bahari\n",
            "Pantai Greweng : Bahari\n",
            "\n",
            "------------------------------------------------------------\n",
            "Top 7 place recommendation\n",
            "------------------------------------------------------------\n",
            "1 . Pantai Baron \n",
            "     Bahari , Harga Tiket Masuk  10000 , Rating Wisata  4.4 \n",
            "\n",
            "2 . Pintoe Langit Dahromo \n",
            "     Cagar Alam , Harga Tiket Masuk  2500 , Rating Wisata  4.4 \n",
            "\n",
            "3 . Pantai Indrayanti \n",
            "     Bahari , Harga Tiket Masuk  10000 , Rating Wisata  4.5 \n",
            "\n",
            "4 . Museum Gunung Merapi \n",
            "     Budaya , Harga Tiket Masuk  10000 , Rating Wisata  4.4 \n",
            "\n",
            "5 . Goa Pindul \n",
            "     Cagar Alam , Harga Tiket Masuk  40000 , Rating Wisata  4.5 \n",
            "\n",
            "6 . Jogja Bay Pirates Adventure Waterpark \n",
            "     Taman Hiburan , Harga Tiket Masuk  150000 , Rating Wisata  4.4 \n",
            "\n",
            "7 . Pantai Nguluran \n",
            "     Bahari , Harga Tiket Masuk  10000 , Rating Wisata  4.1 \n",
            "\n",
            "=============================================\n"
          ]
        }
      ]
    },
    {
      "cell_type": "markdown",
      "metadata": {
        "id": "d7xOQ3SFc2-t"
      },
      "source": [
        "#9. Semoga rekomendasi wisata ini cocok bagi kamu yang ingin stres realease dari burn outnya kehidupan... Selamat Healing Bestieeeeee!"
      ]
    }
  ]
}